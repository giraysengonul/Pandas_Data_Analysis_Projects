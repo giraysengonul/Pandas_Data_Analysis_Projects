{
 "cells": [
  {
   "cell_type": "code",
   "execution_count": null,
   "id": "4aa7477a-8f2a-4363-bcf2-1b5429f9fe97",
   "metadata": {},
   "outputs": [],
   "source": []
  },
  {
   "cell_type": "code",
   "execution_count": 1,
   "id": "9b4f5183-525c-40f3-8f39-3558c3772d1c",
   "metadata": {},
   "outputs": [],
   "source": [
    "import pandas as pd\n",
    "import numpy as np\n",
    "import matplotlib.pyplot as plt\n",
    "import seaborn as sns"
   ]
  },
  {
   "cell_type": "code",
   "execution_count": null,
   "id": "39e7f284-01df-4cbc-9ad1-c270841f7cd5",
   "metadata": {},
   "outputs": [],
   "source": []
  },
  {
   "cell_type": "code",
   "execution_count": 2,
   "id": "312f0e64-a1f4-445a-aab8-cff25bf5ab07",
   "metadata": {},
   "outputs": [],
   "source": [
    "df = pd.read_csv(r'C:\\Users\\Giray\\Downloads\\Reviews.csv')"
   ]
  },
  {
   "cell_type": "code",
   "execution_count": 3,
   "id": "b750def7-c4c3-4fdc-8eb3-f6f07966f5c8",
   "metadata": {},
   "outputs": [
    {
     "data": {
      "text/html": [
       "<div>\n",
       "<style scoped>\n",
       "    .dataframe tbody tr th:only-of-type {\n",
       "        vertical-align: middle;\n",
       "    }\n",
       "\n",
       "    .dataframe tbody tr th {\n",
       "        vertical-align: top;\n",
       "    }\n",
       "\n",
       "    .dataframe thead th {\n",
       "        text-align: right;\n",
       "    }\n",
       "</style>\n",
       "<table border=\"1\" class=\"dataframe\">\n",
       "  <thead>\n",
       "    <tr style=\"text-align: right;\">\n",
       "      <th></th>\n",
       "      <th>Id</th>\n",
       "      <th>ProductId</th>\n",
       "      <th>UserId</th>\n",
       "      <th>ProfileName</th>\n",
       "      <th>HelpfulnessNumerator</th>\n",
       "      <th>HelpfulnessDenominator</th>\n",
       "      <th>Score</th>\n",
       "      <th>Time</th>\n",
       "      <th>Summary</th>\n",
       "      <th>Text</th>\n",
       "    </tr>\n",
       "  </thead>\n",
       "  <tbody>\n",
       "    <tr>\n",
       "      <th>0</th>\n",
       "      <td>1</td>\n",
       "      <td>B001E4KFG0</td>\n",
       "      <td>A3SGXH7AUHU8GW</td>\n",
       "      <td>delmartian</td>\n",
       "      <td>1</td>\n",
       "      <td>1</td>\n",
       "      <td>5</td>\n",
       "      <td>1303862400</td>\n",
       "      <td>Good Quality Dog Food</td>\n",
       "      <td>I have bought several of the Vitality canned d...</td>\n",
       "    </tr>\n",
       "    <tr>\n",
       "      <th>1</th>\n",
       "      <td>2</td>\n",
       "      <td>B00813GRG4</td>\n",
       "      <td>A1D87F6ZCVE5NK</td>\n",
       "      <td>dll pa</td>\n",
       "      <td>0</td>\n",
       "      <td>0</td>\n",
       "      <td>1</td>\n",
       "      <td>1346976000</td>\n",
       "      <td>Not as Advertised</td>\n",
       "      <td>Product arrived labeled as Jumbo Salted Peanut...</td>\n",
       "    </tr>\n",
       "    <tr>\n",
       "      <th>2</th>\n",
       "      <td>3</td>\n",
       "      <td>B000LQOCH0</td>\n",
       "      <td>ABXLMWJIXXAIN</td>\n",
       "      <td>Natalia Corres \"Natalia Corres\"</td>\n",
       "      <td>1</td>\n",
       "      <td>1</td>\n",
       "      <td>4</td>\n",
       "      <td>1219017600</td>\n",
       "      <td>\"Delight\" says it all</td>\n",
       "      <td>This is a confection that has been around a fe...</td>\n",
       "    </tr>\n",
       "    <tr>\n",
       "      <th>3</th>\n",
       "      <td>4</td>\n",
       "      <td>B000UA0QIQ</td>\n",
       "      <td>A395BORC6FGVXV</td>\n",
       "      <td>Karl</td>\n",
       "      <td>3</td>\n",
       "      <td>3</td>\n",
       "      <td>2</td>\n",
       "      <td>1307923200</td>\n",
       "      <td>Cough Medicine</td>\n",
       "      <td>If you are looking for the secret ingredient i...</td>\n",
       "    </tr>\n",
       "    <tr>\n",
       "      <th>4</th>\n",
       "      <td>5</td>\n",
       "      <td>B006K2ZZ7K</td>\n",
       "      <td>A1UQRSCLF8GW1T</td>\n",
       "      <td>Michael D. Bigham \"M. Wassir\"</td>\n",
       "      <td>0</td>\n",
       "      <td>0</td>\n",
       "      <td>5</td>\n",
       "      <td>1350777600</td>\n",
       "      <td>Great taffy</td>\n",
       "      <td>Great taffy at a great price.  There was a wid...</td>\n",
       "    </tr>\n",
       "  </tbody>\n",
       "</table>\n",
       "</div>"
      ],
      "text/plain": [
       "   Id   ProductId          UserId                      ProfileName  \\\n",
       "0   1  B001E4KFG0  A3SGXH7AUHU8GW                       delmartian   \n",
       "1   2  B00813GRG4  A1D87F6ZCVE5NK                           dll pa   \n",
       "2   3  B000LQOCH0   ABXLMWJIXXAIN  Natalia Corres \"Natalia Corres\"   \n",
       "3   4  B000UA0QIQ  A395BORC6FGVXV                             Karl   \n",
       "4   5  B006K2ZZ7K  A1UQRSCLF8GW1T    Michael D. Bigham \"M. Wassir\"   \n",
       "\n",
       "   HelpfulnessNumerator  HelpfulnessDenominator  Score        Time  \\\n",
       "0                     1                       1      5  1303862400   \n",
       "1                     0                       0      1  1346976000   \n",
       "2                     1                       1      4  1219017600   \n",
       "3                     3                       3      2  1307923200   \n",
       "4                     0                       0      5  1350777600   \n",
       "\n",
       "                 Summary                                               Text  \n",
       "0  Good Quality Dog Food  I have bought several of the Vitality canned d...  \n",
       "1      Not as Advertised  Product arrived labeled as Jumbo Salted Peanut...  \n",
       "2  \"Delight\" says it all  This is a confection that has been around a fe...  \n",
       "3         Cough Medicine  If you are looking for the secret ingredient i...  \n",
       "4            Great taffy  Great taffy at a great price.  There was a wid...  "
      ]
     },
     "execution_count": 3,
     "metadata": {},
     "output_type": "execute_result"
    }
   ],
   "source": [
    "df.head()"
   ]
  },
  {
   "cell_type": "code",
   "execution_count": 5,
   "id": "8a01a41d-c1fe-4258-b24d-0742d853ef89",
   "metadata": {},
   "outputs": [
    {
     "data": {
      "text/plain": [
       "(568454, 10)"
      ]
     },
     "execution_count": 5,
     "metadata": {},
     "output_type": "execute_result"
    }
   ],
   "source": [
    "df.shape"
   ]
  },
  {
   "cell_type": "code",
   "execution_count": 6,
   "id": "9675bdd8-e0a2-46a1-a950-77260222d8e5",
   "metadata": {},
   "outputs": [
    {
     "data": {
      "text/plain": [
       "Index(['Id', 'ProductId', 'UserId', 'ProfileName', 'HelpfulnessNumerator',\n",
       "       'HelpfulnessDenominator', 'Score', 'Time', 'Summary', 'Text'],\n",
       "      dtype='object')"
      ]
     },
     "execution_count": 6,
     "metadata": {},
     "output_type": "execute_result"
    }
   ],
   "source": [
    "df.columns"
   ]
  },
  {
   "cell_type": "code",
   "execution_count": 8,
   "id": "8867f459-5dc7-4a02-beb1-a9989eb751eb",
   "metadata": {},
   "outputs": [
    {
     "data": {
      "text/html": [
       "<div>\n",
       "<style scoped>\n",
       "    .dataframe tbody tr th:only-of-type {\n",
       "        vertical-align: middle;\n",
       "    }\n",
       "\n",
       "    .dataframe tbody tr th {\n",
       "        vertical-align: top;\n",
       "    }\n",
       "\n",
       "    .dataframe thead th {\n",
       "        text-align: right;\n",
       "    }\n",
       "</style>\n",
       "<table border=\"1\" class=\"dataframe\">\n",
       "  <thead>\n",
       "    <tr style=\"text-align: right;\">\n",
       "      <th></th>\n",
       "      <th>Id</th>\n",
       "      <th>ProductId</th>\n",
       "      <th>UserId</th>\n",
       "      <th>ProfileName</th>\n",
       "      <th>HelpfulnessNumerator</th>\n",
       "      <th>HelpfulnessDenominator</th>\n",
       "      <th>Score</th>\n",
       "      <th>Time</th>\n",
       "      <th>Summary</th>\n",
       "      <th>Text</th>\n",
       "    </tr>\n",
       "  </thead>\n",
       "  <tbody>\n",
       "    <tr>\n",
       "      <th>44736</th>\n",
       "      <td>44737</td>\n",
       "      <td>B001EQ55RW</td>\n",
       "      <td>A2V0I904FH7ABY</td>\n",
       "      <td>Ram</td>\n",
       "      <td>3</td>\n",
       "      <td>2</td>\n",
       "      <td>4</td>\n",
       "      <td>1212883200</td>\n",
       "      <td>Pure cocoa taste with crunchy almonds inside</td>\n",
       "      <td>It was almost a 'love at first bite' - the per...</td>\n",
       "    </tr>\n",
       "    <tr>\n",
       "      <th>64421</th>\n",
       "      <td>64422</td>\n",
       "      <td>B000MIDROQ</td>\n",
       "      <td>A161DK06JJMCYF</td>\n",
       "      <td>J. E. Stephens \"Jeanne\"</td>\n",
       "      <td>3</td>\n",
       "      <td>1</td>\n",
       "      <td>5</td>\n",
       "      <td>1224892800</td>\n",
       "      <td>Bought This for My Son at College</td>\n",
       "      <td>My son loves spaghetti so I didn't hesitate or...</td>\n",
       "    </tr>\n",
       "  </tbody>\n",
       "</table>\n",
       "</div>"
      ],
      "text/plain": [
       "          Id   ProductId          UserId              ProfileName  \\\n",
       "44736  44737  B001EQ55RW  A2V0I904FH7ABY                      Ram   \n",
       "64421  64422  B000MIDROQ  A161DK06JJMCYF  J. E. Stephens \"Jeanne\"   \n",
       "\n",
       "       HelpfulnessNumerator  HelpfulnessDenominator  Score        Time  \\\n",
       "44736                     3                       2      4  1212883200   \n",
       "64421                     3                       1      5  1224892800   \n",
       "\n",
       "                                            Summary  \\\n",
       "44736  Pure cocoa taste with crunchy almonds inside   \n",
       "64421             Bought This for My Son at College   \n",
       "\n",
       "                                                    Text  \n",
       "44736  It was almost a 'love at first bite' - the per...  \n",
       "64421  My son loves spaghetti so I didn't hesitate or...  "
      ]
     },
     "execution_count": 8,
     "metadata": {},
     "output_type": "execute_result"
    }
   ],
   "source": [
    "df[df['HelpfulnessNumerator'] > df['HelpfulnessDenominator']]"
   ]
  },
  {
   "cell_type": "code",
   "execution_count": 9,
   "id": "b4d15516-ddfc-4f2b-a347-fd7bb60c14c5",
   "metadata": {},
   "outputs": [],
   "source": [
    "df_valid = df[df['HelpfulnessNumerator'] <= df['HelpfulnessDenominator']]"
   ]
  },
  {
   "cell_type": "code",
   "execution_count": 14,
   "id": "cc167724-2a7e-4328-a7fb-55e08dd4c779",
   "metadata": {},
   "outputs": [
    {
     "data": {
      "text/plain": [
       "174521"
      ]
     },
     "execution_count": 14,
     "metadata": {},
     "output_type": "execute_result"
    }
   ],
   "source": [
    "df_valid.duplicated(subset=['UserId','ProfileName','Time','Text']).sum()"
   ]
  },
  {
   "cell_type": "code",
   "execution_count": 15,
   "id": "61af3b5f-addf-4126-bf5c-996448236064",
   "metadata": {},
   "outputs": [],
   "source": [
    "data = df_valid.drop_duplicates(subset=['UserId','ProfileName','Time','Text'])"
   ]
  },
  {
   "cell_type": "code",
   "execution_count": 17,
   "id": "06264ef4-5e7d-4b08-9863-abbf390a6219",
   "metadata": {},
   "outputs": [
    {
     "data": {
      "text/plain": [
       "Id                         int64\n",
       "ProductId                 object\n",
       "UserId                    object\n",
       "ProfileName               object\n",
       "HelpfulnessNumerator       int64\n",
       "HelpfulnessDenominator     int64\n",
       "Score                      int64\n",
       "Time                       int64\n",
       "Summary                   object\n",
       "Text                      object\n",
       "dtype: object"
      ]
     },
     "execution_count": 17,
     "metadata": {},
     "output_type": "execute_result"
    }
   ],
   "source": [
    "data.dtypes"
   ]
  },
  {
   "cell_type": "code",
   "execution_count": 19,
   "id": "727fdb65-7779-40e5-8709-9cd1fb90ab6d",
   "metadata": {},
   "outputs": [
    {
     "data": {
      "text/plain": [
       "0    1303862400\n",
       "1    1346976000\n",
       "2    1219017600\n",
       "3    1307923200\n",
       "4    1350777600\n",
       "Name: Time, dtype: int64"
      ]
     },
     "execution_count": 19,
     "metadata": {},
     "output_type": "execute_result"
    }
   ],
   "source": [
    "data['Time'].head()"
   ]
  },
  {
   "cell_type": "code",
   "execution_count": 21,
   "id": "5e102a02-274a-41cb-810e-9874ea699971",
   "metadata": {},
   "outputs": [],
   "source": [
    "import warnings\n",
    "from warnings import filterwarnings\n",
    "filterwarnings('ignore')"
   ]
  },
  {
   "cell_type": "code",
   "execution_count": 22,
   "id": "fa323af8-b3b2-4f5b-90b1-d39a14c4c379",
   "metadata": {},
   "outputs": [],
   "source": [
    "data['Time'] = pd.to_datetime(data['Time'], unit='s')"
   ]
  },
  {
   "cell_type": "code",
   "execution_count": null,
   "id": "f58ed701-5833-4bdb-91b5-49664f25ea11",
   "metadata": {},
   "outputs": [],
   "source": []
  },
  {
   "cell_type": "markdown",
   "id": "ae1dc574-6550-49a0-b1c8-e0dca752fabb",
   "metadata": {},
   "source": [
    "# To which users can Amazon recommend more products?"
   ]
  },
  {
   "cell_type": "code",
   "execution_count": 23,
   "id": "89a29568-85bd-490a-a70e-5715823918b2",
   "metadata": {},
   "outputs": [
    {
     "data": {
      "text/plain": [
       "Index(['Id', 'ProductId', 'UserId', 'ProfileName', 'HelpfulnessNumerator',\n",
       "       'HelpfulnessDenominator', 'Score', 'Time', 'Summary', 'Text'],\n",
       "      dtype='object')"
      ]
     },
     "execution_count": 23,
     "metadata": {},
     "output_type": "execute_result"
    }
   ],
   "source": [
    "data.columns"
   ]
  },
  {
   "cell_type": "code",
   "execution_count": 24,
   "id": "f7d4db2f-a3a5-4749-8142-415a36a23000",
   "metadata": {},
   "outputs": [
    {
     "data": {
      "text/plain": [
       "256059"
      ]
     },
     "execution_count": 24,
     "metadata": {},
     "output_type": "execute_result"
    }
   ],
   "source": [
    "data['UserId'].nunique()"
   ]
  },
  {
   "cell_type": "code",
   "execution_count": 29,
   "id": "6f2d6d53-e317-4182-b6e2-b72653773250",
   "metadata": {},
   "outputs": [],
   "source": [
    "recommend_df = data.groupby(['UserId']).agg({'Summary':'count','Text':'count', 'Score':'mean', 'ProductId':'count'}).sort_values(by='ProductId', ascending=False)"
   ]
  },
  {
   "cell_type": "code",
   "execution_count": 31,
   "id": "3a7b0460-042d-46a1-b2d2-dbfbb2700a4c",
   "metadata": {},
   "outputs": [],
   "source": [
    "recommend_df.columns = ['Number_of_summaries', 'num_text', 'avg_score', 'No_of_prods_purchased']"
   ]
  },
  {
   "cell_type": "code",
   "execution_count": 35,
   "id": "bae07830-f884-4e6c-860f-688b4042b886",
   "metadata": {},
   "outputs": [
    {
     "data": {
      "text/html": [
       "<div>\n",
       "<style scoped>\n",
       "    .dataframe tbody tr th:only-of-type {\n",
       "        vertical-align: middle;\n",
       "    }\n",
       "\n",
       "    .dataframe tbody tr th {\n",
       "        vertical-align: top;\n",
       "    }\n",
       "\n",
       "    .dataframe thead th {\n",
       "        text-align: right;\n",
       "    }\n",
       "</style>\n",
       "<table border=\"1\" class=\"dataframe\">\n",
       "  <thead>\n",
       "    <tr style=\"text-align: right;\">\n",
       "      <th></th>\n",
       "      <th>Number_of_summaries</th>\n",
       "      <th>num_text</th>\n",
       "      <th>avg_score</th>\n",
       "      <th>No_of_prods_purchased</th>\n",
       "    </tr>\n",
       "    <tr>\n",
       "      <th>UserId</th>\n",
       "      <th></th>\n",
       "      <th></th>\n",
       "      <th></th>\n",
       "      <th></th>\n",
       "    </tr>\n",
       "  </thead>\n",
       "  <tbody>\n",
       "    <tr>\n",
       "      <th>AY12DBB0U420B</th>\n",
       "      <td>329</td>\n",
       "      <td>329</td>\n",
       "      <td>4.659574</td>\n",
       "      <td>329</td>\n",
       "    </tr>\n",
       "    <tr>\n",
       "      <th>A3OXHLG6DIBRW8</th>\n",
       "      <td>278</td>\n",
       "      <td>278</td>\n",
       "      <td>4.546763</td>\n",
       "      <td>278</td>\n",
       "    </tr>\n",
       "    <tr>\n",
       "      <th>A281NPSIMI1C2R</th>\n",
       "      <td>259</td>\n",
       "      <td>259</td>\n",
       "      <td>4.787645</td>\n",
       "      <td>259</td>\n",
       "    </tr>\n",
       "    <tr>\n",
       "      <th>A1YUL9PCJR3JTY</th>\n",
       "      <td>214</td>\n",
       "      <td>214</td>\n",
       "      <td>4.621495</td>\n",
       "      <td>214</td>\n",
       "    </tr>\n",
       "    <tr>\n",
       "      <th>A1Z54EM24Y40LL</th>\n",
       "      <td>211</td>\n",
       "      <td>211</td>\n",
       "      <td>4.383886</td>\n",
       "      <td>211</td>\n",
       "    </tr>\n",
       "  </tbody>\n",
       "</table>\n",
       "</div>"
      ],
      "text/plain": [
       "                Number_of_summaries  num_text  avg_score  \\\n",
       "UserId                                                     \n",
       "AY12DBB0U420B                   329       329   4.659574   \n",
       "A3OXHLG6DIBRW8                  278       278   4.546763   \n",
       "A281NPSIMI1C2R                  259       259   4.787645   \n",
       "A1YUL9PCJR3JTY                  214       214   4.621495   \n",
       "A1Z54EM24Y40LL                  211       211   4.383886   \n",
       "\n",
       "                No_of_prods_purchased  \n",
       "UserId                                 \n",
       "AY12DBB0U420B                     329  \n",
       "A3OXHLG6DIBRW8                    278  \n",
       "A281NPSIMI1C2R                    259  \n",
       "A1YUL9PCJR3JTY                    214  \n",
       "A1Z54EM24Y40LL                    211  "
      ]
     },
     "execution_count": 35,
     "metadata": {},
     "output_type": "execute_result"
    }
   ],
   "source": [
    "recommend_df.head()"
   ]
  },
  {
   "cell_type": "code",
   "execution_count": 34,
   "id": "477c1de6-0f24-4739-aefe-76e2cc153515",
   "metadata": {},
   "outputs": [
    {
     "data": {
      "text/plain": [
       "array([329, 278, 259, 214, 211, 161, 146, 129, 119, 118], dtype=int64)"
      ]
     },
     "execution_count": 34,
     "metadata": {},
     "output_type": "execute_result"
    }
   ],
   "source": [
    "recommend_df['Number_of_summaries'][:10].values"
   ]
  },
  {
   "cell_type": "code",
   "execution_count": 37,
   "id": "d33e2d02-9cc6-44e2-8a3d-e984e4e32ecc",
   "metadata": {},
   "outputs": [
    {
     "data": {
      "text/plain": [
       "([0, 1, 2, 3, 4, 5, 6, 7, 8, 9],\n",
       " [Text(0, 0, 'AY12DBB0U420B'),\n",
       "  Text(1, 0, 'A3OXHLG6DIBRW8'),\n",
       "  Text(2, 0, 'A281NPSIMI1C2R'),\n",
       "  Text(3, 0, 'A1YUL9PCJR3JTY'),\n",
       "  Text(4, 0, 'A1Z54EM24Y40LL'),\n",
       "  Text(5, 0, 'A2MUGFV2TDQ47K'),\n",
       "  Text(6, 0, 'A3D6OI36USYOU1'),\n",
       "  Text(7, 0, 'AZV26LP92E6WU'),\n",
       "  Text(8, 0, 'AKMEY1BSHSDG7'),\n",
       "  Text(9, 0, 'A2GEZJHBV92EVR')])"
      ]
     },
     "execution_count": 37,
     "metadata": {},
     "output_type": "execute_result"
    },
    {
     "data": {
      "image/png": "[encoded data removed]",
      "text/plain": [
       "<Figure size 640x480 with 1 Axes>"
      ]
     },
     "metadata": {},
     "output_type": "display_data"
    }
   ],
   "source": [
    "plt.bar(x=recommend_df.index[:10], height=recommend_df['Number_of_summaries'][:10].values)\n",
    "plt.xticks(rotation='vertical')"
   ]
  },
  {
   "cell_type": "code",
   "execution_count": null,
   "id": "21750ef4-6dc5-4934-98ed-29e40b5af9a1",
   "metadata": {},
   "outputs": [],
   "source": []
  },
  {
   "cell_type": "markdown",
   "id": "8a57264b-24d8-4c65-82a2-fb9c7d1f1da8",
   "metadata": {},
   "source": [
    "# Which product has good number of reviews ? "
   ]
  },
  {
   "cell_type": "code",
   "execution_count": 38,
   "id": "63b7f84b-b1fc-4e9a-bad1-32c12fd2ccf1",
   "metadata": {},
   "outputs": [
    {
     "data": {
      "text/plain": [
       "67624"
      ]
     },
     "execution_count": 38,
     "metadata": {},
     "output_type": "execute_result"
    }
   ],
   "source": [
    "data['ProductId'].nunique()"
   ]
  },
  {
   "cell_type": "code",
   "execution_count": 43,
   "id": "fe1c799f-3d52-4898-b58f-f701ae0abf39",
   "metadata": {},
   "outputs": [],
   "source": [
    "product_count = data['ProductId'].value_counts().to_frame()"
   ]
  },
  {
   "cell_type": "code",
   "execution_count": 44,
   "id": "77862a4c-22a4-4e16-9b43-48ebb0b7c1f9",
   "metadata": {},
   "outputs": [
    {
     "data": {
      "text/html": [
       "<div>\n",
       "<style scoped>\n",
       "    .dataframe tbody tr th:only-of-type {\n",
       "        vertical-align: middle;\n",
       "    }\n",
       "\n",
       "    .dataframe tbody tr th {\n",
       "        vertical-align: top;\n",
       "    }\n",
       "\n",
       "    .dataframe thead th {\n",
       "        text-align: right;\n",
       "    }\n",
       "</style>\n",
       "<table border=\"1\" class=\"dataframe\">\n",
       "  <thead>\n",
       "    <tr style=\"text-align: right;\">\n",
       "      <th></th>\n",
       "      <th>count</th>\n",
       "    </tr>\n",
       "    <tr>\n",
       "      <th>ProductId</th>\n",
       "      <th></th>\n",
       "    </tr>\n",
       "  </thead>\n",
       "  <tbody>\n",
       "    <tr>\n",
       "      <th>B007JFMH8M</th>\n",
       "      <td>912</td>\n",
       "    </tr>\n",
       "    <tr>\n",
       "      <th>B002QWP89S</th>\n",
       "      <td>630</td>\n",
       "    </tr>\n",
       "    <tr>\n",
       "      <th>B003B3OOPA</th>\n",
       "      <td>622</td>\n",
       "    </tr>\n",
       "    <tr>\n",
       "      <th>B001EO5Q64</th>\n",
       "      <td>566</td>\n",
       "    </tr>\n",
       "    <tr>\n",
       "      <th>B0013NUGDE</th>\n",
       "      <td>558</td>\n",
       "    </tr>\n",
       "  </tbody>\n",
       "</table>\n",
       "</div>"
      ],
      "text/plain": [
       "            count\n",
       "ProductId        \n",
       "B007JFMH8M    912\n",
       "B002QWP89S    630\n",
       "B003B3OOPA    622\n",
       "B001EO5Q64    566\n",
       "B0013NUGDE    558"
      ]
     },
     "execution_count": 44,
     "metadata": {},
     "output_type": "execute_result"
    }
   ],
   "source": [
    "product_count[:5]"
   ]
  },
  {
   "cell_type": "code",
   "execution_count": 47,
   "id": "924a6197-cc1b-4ee1-b503-0df45c30a9b6",
   "metadata": {},
   "outputs": [
    {
     "data": {
      "text/html": [
       "<div>\n",
       "<style scoped>\n",
       "    .dataframe tbody tr th:only-of-type {\n",
       "        vertical-align: middle;\n",
       "    }\n",
       "\n",
       "    .dataframe tbody tr th {\n",
       "        vertical-align: top;\n",
       "    }\n",
       "\n",
       "    .dataframe thead th {\n",
       "        text-align: right;\n",
       "    }\n",
       "</style>\n",
       "<table border=\"1\" class=\"dataframe\">\n",
       "  <thead>\n",
       "    <tr style=\"text-align: right;\">\n",
       "      <th></th>\n",
       "      <th>count</th>\n",
       "    </tr>\n",
       "    <tr>\n",
       "      <th>ProductId</th>\n",
       "      <th></th>\n",
       "    </tr>\n",
       "  </thead>\n",
       "  <tbody>\n",
       "    <tr>\n",
       "      <th>B007JFMH8M</th>\n",
       "      <td>912</td>\n",
       "    </tr>\n",
       "    <tr>\n",
       "      <th>B002QWP89S</th>\n",
       "      <td>630</td>\n",
       "    </tr>\n",
       "    <tr>\n",
       "      <th>B003B3OOPA</th>\n",
       "      <td>622</td>\n",
       "    </tr>\n",
       "    <tr>\n",
       "      <th>B001EO5Q64</th>\n",
       "      <td>566</td>\n",
       "    </tr>\n",
       "    <tr>\n",
       "      <th>B0013NUGDE</th>\n",
       "      <td>558</td>\n",
       "    </tr>\n",
       "    <tr>\n",
       "      <th>B000KV61FC</th>\n",
       "      <td>556</td>\n",
       "    </tr>\n",
       "    <tr>\n",
       "      <th>B000UBD88A</th>\n",
       "      <td>542</td>\n",
       "    </tr>\n",
       "    <tr>\n",
       "      <th>B000NMJWZO</th>\n",
       "      <td>542</td>\n",
       "    </tr>\n",
       "    <tr>\n",
       "      <th>B005K4Q37A</th>\n",
       "      <td>541</td>\n",
       "    </tr>\n",
       "    <tr>\n",
       "      <th>B0090X8IPM</th>\n",
       "      <td>530</td>\n",
       "    </tr>\n",
       "    <tr>\n",
       "      <th>B005ZBZLT4</th>\n",
       "      <td>505</td>\n",
       "    </tr>\n",
       "  </tbody>\n",
       "</table>\n",
       "</div>"
      ],
      "text/plain": [
       "            count\n",
       "ProductId        \n",
       "B007JFMH8M    912\n",
       "B002QWP89S    630\n",
       "B003B3OOPA    622\n",
       "B001EO5Q64    566\n",
       "B0013NUGDE    558\n",
       "B000KV61FC    556\n",
       "B000UBD88A    542\n",
       "B000NMJWZO    542\n",
       "B005K4Q37A    541\n",
       "B0090X8IPM    530\n",
       "B005ZBZLT4    505"
      ]
     },
     "execution_count": 47,
     "metadata": {},
     "output_type": "execute_result"
    }
   ],
   "source": [
    "product_count[product_count['count'] > 500]"
   ]
  },
  {
   "cell_type": "code",
   "execution_count": 48,
   "id": "ae8d5649-866b-4dda-ad9c-e92ee1b70986",
   "metadata": {},
   "outputs": [],
   "source": [
    "freq_prod_ids = product_count[product_count['count'] > 500].index"
   ]
  },
  {
   "cell_type": "code",
   "execution_count": 49,
   "id": "24180bb4-92a2-46d0-acac-0f2cc74b63a5",
   "metadata": {},
   "outputs": [
    {
     "data": {
      "text/plain": [
       "Index(['B007JFMH8M', 'B002QWP89S', 'B003B3OOPA', 'B001EO5Q64', 'B0013NUGDE',\n",
       "       'B000KV61FC', 'B000UBD88A', 'B000NMJWZO', 'B005K4Q37A', 'B0090X8IPM',\n",
       "       'B005ZBZLT4'],\n",
       "      dtype='object', name='ProductId')"
      ]
     },
     "execution_count": 49,
     "metadata": {},
     "output_type": "execute_result"
    }
   ],
   "source": [
    "freq_prod_ids"
   ]
  },
  {
   "cell_type": "code",
   "execution_count": null,
   "id": "ad8db7cc-1ee6-46e8-82fa-8ce85ed8a64a",
   "metadata": {},
   "outputs": [],
   "source": []
  },
  {
   "cell_type": "code",
   "execution_count": 51,
   "id": "1957aa86-388f-4e0d-823f-f7de859546ac",
   "metadata": {},
   "outputs": [],
   "source": [
    "fre_prod_df = data[data['ProductId'].isin(freq_prod_ids)]"
   ]
  },
  {
   "cell_type": "code",
   "execution_count": 55,
   "id": "01033262-c7a5-427d-8755-aa0b5006e34f",
   "metadata": {},
   "outputs": [
    {
     "data": {
      "text/html": [
       "<div>\n",
       "<style scoped>\n",
       "    .dataframe tbody tr th:only-of-type {\n",
       "        vertical-align: middle;\n",
       "    }\n",
       "\n",
       "    .dataframe tbody tr th {\n",
       "        vertical-align: top;\n",
       "    }\n",
       "\n",
       "    .dataframe thead th {\n",
       "        text-align: right;\n",
       "    }\n",
       "</style>\n",
       "<table border=\"1\" class=\"dataframe\">\n",
       "  <thead>\n",
       "    <tr style=\"text-align: right;\">\n",
       "      <th></th>\n",
       "      <th>Id</th>\n",
       "      <th>ProductId</th>\n",
       "      <th>UserId</th>\n",
       "      <th>ProfileName</th>\n",
       "      <th>HelpfulnessNumerator</th>\n",
       "      <th>HelpfulnessDenominator</th>\n",
       "      <th>Score</th>\n",
       "      <th>Time</th>\n",
       "      <th>Summary</th>\n",
       "      <th>Text</th>\n",
       "    </tr>\n",
       "  </thead>\n",
       "  <tbody>\n",
       "    <tr>\n",
       "      <th>20982</th>\n",
       "      <td>20983</td>\n",
       "      <td>B002QWP89S</td>\n",
       "      <td>A21U4DR8M6I9QN</td>\n",
       "      <td>K. M Merrill \"justine\"</td>\n",
       "      <td>1</td>\n",
       "      <td>1</td>\n",
       "      <td>5</td>\n",
       "      <td>2011-10-18</td>\n",
       "      <td>addictive! but works for night coughing in dogs</td>\n",
       "      <td>my 12 year old sheltie has chronic brochotitis...</td>\n",
       "    </tr>\n",
       "    <tr>\n",
       "      <th>20983</th>\n",
       "      <td>20984</td>\n",
       "      <td>B002QWP89S</td>\n",
       "      <td>A17TDUBB4Z1PEC</td>\n",
       "      <td>jaded_green</td>\n",
       "      <td>1</td>\n",
       "      <td>1</td>\n",
       "      <td>5</td>\n",
       "      <td>2011-10-14</td>\n",
       "      <td>genuine Greenies best price</td>\n",
       "      <td>These are genuine Greenies product, not a knoc...</td>\n",
       "    </tr>\n",
       "    <tr>\n",
       "      <th>20984</th>\n",
       "      <td>20985</td>\n",
       "      <td>B002QWP89S</td>\n",
       "      <td>ABQH3WAWMSMBH</td>\n",
       "      <td>tenisbrat87</td>\n",
       "      <td>1</td>\n",
       "      <td>1</td>\n",
       "      <td>5</td>\n",
       "      <td>2011-09-28</td>\n",
       "      <td>Perfect for our little doggies</td>\n",
       "      <td>Our dogs love Greenies, but of course, which d...</td>\n",
       "    </tr>\n",
       "    <tr>\n",
       "      <th>20985</th>\n",
       "      <td>20986</td>\n",
       "      <td>B002QWP89S</td>\n",
       "      <td>AVTY5M74VA1BJ</td>\n",
       "      <td>tarotqueen</td>\n",
       "      <td>1</td>\n",
       "      <td>1</td>\n",
       "      <td>5</td>\n",
       "      <td>2011-09-24</td>\n",
       "      <td>dogs love greenies</td>\n",
       "      <td>What can I say, dogs love greenies. They begg ...</td>\n",
       "    </tr>\n",
       "    <tr>\n",
       "      <th>20986</th>\n",
       "      <td>20987</td>\n",
       "      <td>B002QWP89S</td>\n",
       "      <td>A13TNN54ZEAUB1</td>\n",
       "      <td>dcz2221</td>\n",
       "      <td>1</td>\n",
       "      <td>1</td>\n",
       "      <td>5</td>\n",
       "      <td>2011-09-23</td>\n",
       "      <td>Greenies review</td>\n",
       "      <td>This review is for a box of Greenies Lite for ...</td>\n",
       "    </tr>\n",
       "  </tbody>\n",
       "</table>\n",
       "</div>"
      ],
      "text/plain": [
       "          Id   ProductId          UserId             ProfileName  \\\n",
       "20982  20983  B002QWP89S  A21U4DR8M6I9QN  K. M Merrill \"justine\"   \n",
       "20983  20984  B002QWP89S  A17TDUBB4Z1PEC             jaded_green   \n",
       "20984  20985  B002QWP89S   ABQH3WAWMSMBH             tenisbrat87   \n",
       "20985  20986  B002QWP89S   AVTY5M74VA1BJ              tarotqueen   \n",
       "20986  20987  B002QWP89S  A13TNN54ZEAUB1                 dcz2221   \n",
       "\n",
       "       HelpfulnessNumerator  HelpfulnessDenominator  Score       Time  \\\n",
       "20982                     1                       1      5 2011-10-18   \n",
       "20983                     1                       1      5 2011-10-14   \n",
       "20984                     1                       1      5 2011-09-28   \n",
       "20985                     1                       1      5 2011-09-24   \n",
       "20986                     1                       1      5 2011-09-23   \n",
       "\n",
       "                                               Summary  \\\n",
       "20982  addictive! but works for night coughing in dogs   \n",
       "20983                      genuine Greenies best price   \n",
       "20984                   Perfect for our little doggies   \n",
       "20985                               dogs love greenies   \n",
       "20986                                  Greenies review   \n",
       "\n",
       "                                                    Text  \n",
       "20982  my 12 year old sheltie has chronic brochotitis...  \n",
       "20983  These are genuine Greenies product, not a knoc...  \n",
       "20984  Our dogs love Greenies, but of course, which d...  \n",
       "20985  What can I say, dogs love greenies. They begg ...  \n",
       "20986  This review is for a box of Greenies Lite for ...  "
      ]
     },
     "execution_count": 55,
     "metadata": {},
     "output_type": "execute_result"
    }
   ],
   "source": [
    "fre_prod_df.head()"
   ]
  },
  {
   "cell_type": "code",
   "execution_count": 59,
   "id": "f3d4469b-3ece-4207-886e-21798c0420a9",
   "metadata": {},
   "outputs": [
    {
     "data": {
      "text/plain": [
       "<Axes: xlabel='count', ylabel='ProductId'>"
      ]
     },
     "execution_count": 59,
     "metadata": {},
     "output_type": "execute_result"
    },
    {
     "data": {
      "image/png": "[encoded data removed]",
      "text/plain": [
       "<Figure size 640x480 with 1 Axes>"
      ]
     },
     "metadata": {},
     "output_type": "display_data"
    }
   ],
   "source": [
    "sns.countplot(y= 'ProductId', data=fre_prod_df,hue='Score')"
   ]
  },
  {
   "cell_type": "code",
   "execution_count": null,
   "id": "21cd0410-b606-4756-9c2b-29d8e1b56d8d",
   "metadata": {},
   "outputs": [],
   "source": []
  },
  {
   "cell_type": "markdown",
   "id": "7112c683-4c82-46d0-b06c-82ef607263c8",
   "metadata": {},
   "source": [
    "# Is there difference between behaviour of frequent viewers & not frequent viewers"
   ]
  },
  {
   "cell_type": "code",
   "execution_count": null,
   "id": "9cf998da-802c-4fdc-be7b-ecbe14442930",
   "metadata": {},
   "outputs": [],
   "source": []
  },
  {
   "cell_type": "code",
   "execution_count": 62,
   "id": "10a98476-af53-4299-958c-be093539b216",
   "metadata": {},
   "outputs": [
    {
     "data": {
      "text/plain": [
       "Index(['Id', 'ProductId', 'UserId', 'ProfileName', 'HelpfulnessNumerator',\n",
       "       'HelpfulnessDenominator', 'Score', 'Time', 'Summary', 'Text'],\n",
       "      dtype='object')"
      ]
     },
     "execution_count": 62,
     "metadata": {},
     "output_type": "execute_result"
    }
   ],
   "source": [
    "data.columns"
   ]
  },
  {
   "cell_type": "code",
   "execution_count": 66,
   "id": "fa54cb09-d81c-436b-940d-1e7aa4872436",
   "metadata": {},
   "outputs": [],
   "source": [
    "x= data['UserId'].value_counts()"
   ]
  },
  {
   "cell_type": "code",
   "execution_count": 67,
   "id": "0e065c67-634d-4467-ac58-2233f958a137",
   "metadata": {},
   "outputs": [
    {
     "data": {
      "text/plain": [
       "UserId\n",
       "AY12DBB0U420B     329\n",
       "A3OXHLG6DIBRW8    278\n",
       "A281NPSIMI1C2R    259\n",
       "A1YUL9PCJR3JTY    214\n",
       "A1Z54EM24Y40LL    211\n",
       "                 ... \n",
       "AAQPR1MSRXKTU       1\n",
       "AGO81Z6PZSF7P       1\n",
       "ALA84XWMTQBFT       1\n",
       "A1G9DK8EUR36JC      1\n",
       "A3LGQPJCZVL9UC      1\n",
       "Name: count, Length: 256059, dtype: int64"
      ]
     },
     "execution_count": 67,
     "metadata": {},
     "output_type": "execute_result"
    }
   ],
   "source": [
    "x"
   ]
  },
  {
   "cell_type": "code",
   "execution_count": 69,
   "id": "680a5367-d7dd-4cd1-a95a-0298970caebc",
   "metadata": {},
   "outputs": [],
   "source": [
    "data['viewer_type'] = data['UserId'].apply(lambda user: 'Frequent' if x[user]>50 else 'Not Frequent')"
   ]
  },
  {
   "cell_type": "code",
   "execution_count": 71,
   "id": "477eb85b-28b8-4abf-8bfd-f3d537fb669c",
   "metadata": {},
   "outputs": [
    {
     "data": {
      "text/html": [
       "<div>\n",
       "<style scoped>\n",
       "    .dataframe tbody tr th:only-of-type {\n",
       "        vertical-align: middle;\n",
       "    }\n",
       "\n",
       "    .dataframe tbody tr th {\n",
       "        vertical-align: top;\n",
       "    }\n",
       "\n",
       "    .dataframe thead th {\n",
       "        text-align: right;\n",
       "    }\n",
       "</style>\n",
       "<table border=\"1\" class=\"dataframe\">\n",
       "  <thead>\n",
       "    <tr style=\"text-align: right;\">\n",
       "      <th></th>\n",
       "      <th>Id</th>\n",
       "      <th>ProductId</th>\n",
       "      <th>UserId</th>\n",
       "      <th>ProfileName</th>\n",
       "      <th>HelpfulnessNumerator</th>\n",
       "      <th>HelpfulnessDenominator</th>\n",
       "      <th>Score</th>\n",
       "      <th>Time</th>\n",
       "      <th>Summary</th>\n",
       "      <th>Text</th>\n",
       "      <th>viewer_type</th>\n",
       "    </tr>\n",
       "  </thead>\n",
       "  <tbody>\n",
       "    <tr>\n",
       "      <th>0</th>\n",
       "      <td>1</td>\n",
       "      <td>B001E4KFG0</td>\n",
       "      <td>A3SGXH7AUHU8GW</td>\n",
       "      <td>delmartian</td>\n",
       "      <td>1</td>\n",
       "      <td>1</td>\n",
       "      <td>5</td>\n",
       "      <td>2011-04-27</td>\n",
       "      <td>Good Quality Dog Food</td>\n",
       "      <td>I have bought several of the Vitality canned d...</td>\n",
       "      <td>Not Frequent</td>\n",
       "    </tr>\n",
       "    <tr>\n",
       "      <th>1</th>\n",
       "      <td>2</td>\n",
       "      <td>B00813GRG4</td>\n",
       "      <td>A1D87F6ZCVE5NK</td>\n",
       "      <td>dll pa</td>\n",
       "      <td>0</td>\n",
       "      <td>0</td>\n",
       "      <td>1</td>\n",
       "      <td>2012-09-07</td>\n",
       "      <td>Not as Advertised</td>\n",
       "      <td>Product arrived labeled as Jumbo Salted Peanut...</td>\n",
       "      <td>Not Frequent</td>\n",
       "    </tr>\n",
       "    <tr>\n",
       "      <th>2</th>\n",
       "      <td>3</td>\n",
       "      <td>B000LQOCH0</td>\n",
       "      <td>ABXLMWJIXXAIN</td>\n",
       "      <td>Natalia Corres \"Natalia Corres\"</td>\n",
       "      <td>1</td>\n",
       "      <td>1</td>\n",
       "      <td>4</td>\n",
       "      <td>2008-08-18</td>\n",
       "      <td>\"Delight\" says it all</td>\n",
       "      <td>This is a confection that has been around a fe...</td>\n",
       "      <td>Not Frequent</td>\n",
       "    </tr>\n",
       "  </tbody>\n",
       "</table>\n",
       "</div>"
      ],
      "text/plain": [
       "   Id   ProductId          UserId                      ProfileName  \\\n",
       "0   1  B001E4KFG0  A3SGXH7AUHU8GW                       delmartian   \n",
       "1   2  B00813GRG4  A1D87F6ZCVE5NK                           dll pa   \n",
       "2   3  B000LQOCH0   ABXLMWJIXXAIN  Natalia Corres \"Natalia Corres\"   \n",
       "\n",
       "   HelpfulnessNumerator  HelpfulnessDenominator  Score       Time  \\\n",
       "0                     1                       1      5 2011-04-27   \n",
       "1                     0                       0      1 2012-09-07   \n",
       "2                     1                       1      4 2008-08-18   \n",
       "\n",
       "                 Summary                                               Text  \\\n",
       "0  Good Quality Dog Food  I have bought several of the Vitality canned d...   \n",
       "1      Not as Advertised  Product arrived labeled as Jumbo Salted Peanut...   \n",
       "2  \"Delight\" says it all  This is a confection that has been around a fe...   \n",
       "\n",
       "    viewer_type  \n",
       "0  Not Frequent  \n",
       "1  Not Frequent  \n",
       "2  Not Frequent  "
      ]
     },
     "execution_count": 71,
     "metadata": {},
     "output_type": "execute_result"
    }
   ],
   "source": [
    "data.head(3)"
   ]
  },
  {
   "cell_type": "code",
   "execution_count": 72,
   "id": "460dca31-4875-49e9-9e80-332ebf477c54",
   "metadata": {},
   "outputs": [],
   "source": [
    "not_freq_df = data[data['viewer_type']=='Not Frequent']\n",
    "freq_df = data[data['viewer_type']=='Frequent']"
   ]
  },
  {
   "cell_type": "code",
   "execution_count": 73,
   "id": "551660f3-129f-4680-bfcc-08fd2f2490c2",
   "metadata": {},
   "outputs": [
    {
     "data": {
      "text/plain": [
       "Score\n",
       "5    5765\n",
       "4    1979\n",
       "3     897\n",
       "2     368\n",
       "1     349\n",
       "Name: count, dtype: int64"
      ]
     },
     "execution_count": 73,
     "metadata": {},
     "output_type": "execute_result"
    }
   ],
   "source": [
    "freq_df['Score'].value_counts()"
   ]
  },
  {
   "cell_type": "code",
   "execution_count": 76,
   "id": "75919c9d-4528-4896-a805-035fb4f99e1a",
   "metadata": {},
   "outputs": [
    {
     "data": {
      "text/plain": [
       "Score\n",
       "5    61.605044\n",
       "4    21.147681\n",
       "3     9.585381\n",
       "2     3.932464\n",
       "1     3.729429\n",
       "Name: count, dtype: float64"
      ]
     },
     "execution_count": 76,
     "metadata": {},
     "output_type": "execute_result"
    }
   ],
   "source": [
    "freq_df['Score'].value_counts()/len(freq_df)*100"
   ]
  },
  {
   "cell_type": "code",
   "execution_count": 75,
   "id": "f6df04b7-183d-4feb-bfbf-32b1b538c05b",
   "metadata": {},
   "outputs": [
    {
     "data": {
      "text/plain": [
       "<Axes: xlabel='Score'>"
      ]
     },
     "execution_count": 75,
     "metadata": {},
     "output_type": "execute_result"
    },
    {
     "data": {
      "image/png": "[encoded data removed]",
      "text/plain": [
       "<Figure size 640x480 with 1 Axes>"
      ]
     },
     "metadata": {},
     "output_type": "display_data"
    }
   ],
   "source": [
    "freq_df['Score'].value_counts().plot(kind = 'bar')"
   ]
  },
  {
   "cell_type": "code",
   "execution_count": null,
   "id": "25734d86-1e46-4603-8c78-e1ff3dbcd262",
   "metadata": {},
   "outputs": [],
   "source": []
  },
  {
   "cell_type": "markdown",
   "id": "6a5cca0b-3874-4449-abb1-5e0d337d712e",
   "metadata": {},
   "source": [
    "# Are frequent users more verbose"
   ]
  },
  {
   "cell_type": "code",
   "execution_count": null,
   "id": "50ae1724-9196-4c88-ae25-a75c68f6cd25",
   "metadata": {},
   "outputs": [],
   "source": []
  },
  {
   "cell_type": "code",
   "execution_count": 78,
   "id": "215603d3-1c27-4e1e-bbfd-afb56e8de178",
   "metadata": {},
   "outputs": [
    {
     "data": {
      "text/plain": [
       "Index(['Id', 'ProductId', 'UserId', 'ProfileName', 'HelpfulnessNumerator',\n",
       "       'HelpfulnessDenominator', 'Score', 'Time', 'Summary', 'Text',\n",
       "       'viewer_type'],\n",
       "      dtype='object')"
      ]
     },
     "execution_count": 78,
     "metadata": {},
     "output_type": "execute_result"
    }
   ],
   "source": [
    "data.columns"
   ]
  },
  {
   "cell_type": "code",
   "execution_count": 80,
   "id": "d0940420-d159-4711-84da-8ca8affeceb0",
   "metadata": {},
   "outputs": [
    {
     "data": {
      "text/plain": [
       "'I have bought several of the Vitality canned dog food products and have found them all to be of good quality. The product looks more like a stew than a processed meat and it smells better. My Labrador is finicky and she appreciates this product better than  most.'"
      ]
     },
     "execution_count": 80,
     "metadata": {},
     "output_type": "execute_result"
    }
   ],
   "source": [
    "data['Text'][0]"
   ]
  },
  {
   "cell_type": "code",
   "execution_count": 81,
   "id": "fa886583-7d7b-4aaa-a4b0-3e6e31c0d2f1",
   "metadata": {},
   "outputs": [],
   "source": [
    "def calculate_length(text):\n",
    "    return len(text.split(' '))"
   ]
  },
  {
   "cell_type": "code",
   "execution_count": 83,
   "id": "75e102d8-cea9-4f05-8dc6-ac0d9f0f11c5",
   "metadata": {},
   "outputs": [],
   "source": [
    "data['Text_length'] = data['Text'].apply(calculate_length)"
   ]
  },
  {
   "cell_type": "code",
   "execution_count": 84,
   "id": "4d44cc8e-4468-4517-b9a5-63c880d46a80",
   "metadata": {},
   "outputs": [],
   "source": [
    "not_freq_data = data[data['viewer_type']=='Not Frequent']\n",
    "freq_data = data[data['viewer_type']=='Frequent']"
   ]
  },
  {
   "cell_type": "code",
   "execution_count": null,
   "id": "d4e9d3a2-2f29-4df7-b52f-9fb10eeb4296",
   "metadata": {},
   "outputs": [],
   "source": []
  },
  {
   "cell_type": "code",
   "execution_count": 88,
   "id": "4e8a0e5f-a9a1-4a79-aef7-af761488b032",
   "metadata": {},
   "outputs": [
    {
     "data": {
      "text/plain": [
       "(0.0, 600.0)"
      ]
     },
     "execution_count": 88,
     "metadata": {},
     "output_type": "execute_result"
    },
    {
     "data": {
      "image/png": "[encoded data removed]",
      "text/plain": [
       "<Figure size 640x480 with 2 Axes>"
      ]
     },
     "metadata": {},
     "output_type": "display_data"
    }
   ],
   "source": [
    "fig = plt.figure()\n",
    "\n",
    "ax1 = fig.add_subplot(121)\n",
    "ax1.boxplot(freq_data['Text_length'])\n",
    "ax1.set_xlabel('Freq of freq reviewers')\n",
    "ax1.set_ylim(0,600)\n",
    "\n",
    "ax2 = fig.add_subplot(122)\n",
    "ax2.boxplot(not_freq_data['Text_length'])\n",
    "ax2.set_xlabel('Freq of not-freq reviewers')\n",
    "ax2.set_ylim(0,600)\n"
   ]
  },
  {
   "cell_type": "code",
   "execution_count": null,
   "id": "c42a4f7e-b54b-42fa-b932-4c26e44b01d4",
   "metadata": {},
   "outputs": [],
   "source": []
  },
  {
   "cell_type": "markdown",
   "id": "82a6e2c6-bfa5-48a6-b136-7e487c579c06",
   "metadata": {},
   "source": [
    "# Sentiment Analysis"
   ]
  },
  {
   "cell_type": "code",
   "execution_count": null,
   "id": "577f5fc6-b624-4704-98a5-e2c9842f86ef",
   "metadata": {},
   "outputs": [],
   "source": []
  },
  {
   "cell_type": "code",
   "execution_count": 91,
   "id": "3e94b23d-ebe8-4606-9c37-7eb23526b376",
   "metadata": {},
   "outputs": [
    {
     "name": "stdout",
     "output_type": "stream",
     "text": [
      "Collecting textblob\n",
      "  Downloading textblob-0.19.0-py3-none-any.whl.metadata (4.4 kB)\n",
      "Requirement already satisfied: nltk>=3.9 in c:\\users\\giray\\anaconda3\\lib\\site-packages (from textblob) (3.9.1)\n",
      "Requirement already satisfied: click in c:\\users\\giray\\anaconda3\\lib\\site-packages (from nltk>=3.9->textblob) (8.1.7)\n",
      "Requirement already satisfied: joblib in c:\\users\\giray\\anaconda3\\lib\\site-packages (from nltk>=3.9->textblob) (1.4.2)\n",
      "Requirement already satisfied: regex>=2021.8.3 in c:\\users\\giray\\anaconda3\\lib\\site-packages (from nltk>=3.9->textblob) (2024.9.11)\n",
      "Requirement already satisfied: tqdm in c:\\users\\giray\\anaconda3\\lib\\site-packages (from nltk>=3.9->textblob) (4.66.5)\n",
      "Requirement already satisfied: colorama in c:\\users\\giray\\anaconda3\\lib\\site-packages (from click->nltk>=3.9->textblob) (0.4.6)\n",
      "Downloading textblob-0.19.0-py3-none-any.whl (624 kB)\n",
      "   ---------------------------------------- 0.0/624.3 kB ? eta -:--:--\n",
      "   ---------------------------------------- 0.0/624.3 kB ? eta -:--:--\n",
      "   --------------------------------- ------ 524.3/624.3 kB 2.4 MB/s eta 0:00:01\n",
      "   --------------------------------- ------ 524.3/624.3 kB 2.4 MB/s eta 0:00:01\n",
      "   --------------------------------- ------ 524.3/624.3 kB 2.4 MB/s eta 0:00:01\n",
      "   --------------------------------- ------ 524.3/624.3 kB 2.4 MB/s eta 0:00:01\n",
      "   --------------------------------- ------ 524.3/624.3 kB 2.4 MB/s eta 0:00:01\n",
      "   -------------------------------------- 624.3/624.3 kB 345.9 kB/s eta 0:00:00\n",
      "Installing collected packages: textblob\n",
      "Successfully installed textblob-0.19.0\n"
     ]
    }
   ],
   "source": [
    "! pip install textblob"
   ]
  },
  {
   "cell_type": "code",
   "execution_count": 92,
   "id": "280af160-5934-495c-aada-8ff66442cac0",
   "metadata": {},
   "outputs": [],
   "source": [
    "from textblob import TextBlob"
   ]
  },
  {
   "cell_type": "code",
   "execution_count": 94,
   "id": "ff97ea31-89a7-43f8-907a-c992c5bb1e72",
   "metadata": {},
   "outputs": [],
   "source": [
    "sample = data[0:50000]"
   ]
  },
  {
   "cell_type": "code",
   "execution_count": 95,
   "id": "dcf879ee-773b-4ce8-8eed-3d5d45e99181",
   "metadata": {},
   "outputs": [],
   "source": [
    "polarity = []\n",
    "\n",
    "for text in sample['Summary']:\n",
    "    try:\n",
    "        polarity.append(TextBlob(text).sentiment.polarity)\n",
    "    except:\n",
    "        polarity.append(0)"
   ]
  },
  {
   "cell_type": "code",
   "execution_count": 98,
   "id": "87058575-7b7d-47fe-b706-68828382ff1d",
   "metadata": {},
   "outputs": [
    {
     "data": {
      "text/plain": [
       "50000"
      ]
     },
     "execution_count": 98,
     "metadata": {},
     "output_type": "execute_result"
    }
   ],
   "source": [
    "len(polarity)"
   ]
  },
  {
   "cell_type": "code",
   "execution_count": 99,
   "id": "a188e706-7009-4662-9809-261492987bf4",
   "metadata": {},
   "outputs": [],
   "source": [
    "sample['polarity'] = polarity"
   ]
  },
  {
   "cell_type": "code",
   "execution_count": 101,
   "id": "be8b4184-da6a-4711-8559-c67b6e4272aa",
   "metadata": {},
   "outputs": [
    {
     "data": {
      "text/html": [
       "<div>\n",
       "<style scoped>\n",
       "    .dataframe tbody tr th:only-of-type {\n",
       "        vertical-align: middle;\n",
       "    }\n",
       "\n",
       "    .dataframe tbody tr th {\n",
       "        vertical-align: top;\n",
       "    }\n",
       "\n",
       "    .dataframe thead th {\n",
       "        text-align: right;\n",
       "    }\n",
       "</style>\n",
       "<table border=\"1\" class=\"dataframe\">\n",
       "  <thead>\n",
       "    <tr style=\"text-align: right;\">\n",
       "      <th></th>\n",
       "      <th>Id</th>\n",
       "      <th>ProductId</th>\n",
       "      <th>UserId</th>\n",
       "      <th>ProfileName</th>\n",
       "      <th>HelpfulnessNumerator</th>\n",
       "      <th>HelpfulnessDenominator</th>\n",
       "      <th>Score</th>\n",
       "      <th>Time</th>\n",
       "      <th>Summary</th>\n",
       "      <th>Text</th>\n",
       "      <th>viewer_type</th>\n",
       "      <th>Text_length</th>\n",
       "      <th>polarity</th>\n",
       "    </tr>\n",
       "  </thead>\n",
       "  <tbody>\n",
       "    <tr>\n",
       "      <th>0</th>\n",
       "      <td>1</td>\n",
       "      <td>B001E4KFG0</td>\n",
       "      <td>A3SGXH7AUHU8GW</td>\n",
       "      <td>delmartian</td>\n",
       "      <td>1</td>\n",
       "      <td>1</td>\n",
       "      <td>5</td>\n",
       "      <td>2011-04-27</td>\n",
       "      <td>Good Quality Dog Food</td>\n",
       "      <td>I have bought several of the Vitality canned d...</td>\n",
       "      <td>Not Frequent</td>\n",
       "      <td>49</td>\n",
       "      <td>0.7</td>\n",
       "    </tr>\n",
       "    <tr>\n",
       "      <th>1</th>\n",
       "      <td>2</td>\n",
       "      <td>B00813GRG4</td>\n",
       "      <td>A1D87F6ZCVE5NK</td>\n",
       "      <td>dll pa</td>\n",
       "      <td>0</td>\n",
       "      <td>0</td>\n",
       "      <td>1</td>\n",
       "      <td>2012-09-07</td>\n",
       "      <td>Not as Advertised</td>\n",
       "      <td>Product arrived labeled as Jumbo Salted Peanut...</td>\n",
       "      <td>Not Frequent</td>\n",
       "      <td>31</td>\n",
       "      <td>0.0</td>\n",
       "    </tr>\n",
       "  </tbody>\n",
       "</table>\n",
       "</div>"
      ],
      "text/plain": [
       "   Id   ProductId          UserId ProfileName  HelpfulnessNumerator  \\\n",
       "0   1  B001E4KFG0  A3SGXH7AUHU8GW  delmartian                     1   \n",
       "1   2  B00813GRG4  A1D87F6ZCVE5NK      dll pa                     0   \n",
       "\n",
       "   HelpfulnessDenominator  Score       Time                Summary  \\\n",
       "0                       1      5 2011-04-27  Good Quality Dog Food   \n",
       "1                       0      1 2012-09-07      Not as Advertised   \n",
       "\n",
       "                                                Text   viewer_type  \\\n",
       "0  I have bought several of the Vitality canned d...  Not Frequent   \n",
       "1  Product arrived labeled as Jumbo Salted Peanut...  Not Frequent   \n",
       "\n",
       "   Text_length  polarity  \n",
       "0           49       0.7  \n",
       "1           31       0.0  "
      ]
     },
     "execution_count": 101,
     "metadata": {},
     "output_type": "execute_result"
    }
   ],
   "source": [
    "sample.head(2)"
   ]
  },
  {
   "cell_type": "code",
   "execution_count": 104,
   "id": "94b27ff9-6e56-4ed5-817b-34ad01c7326f",
   "metadata": {},
   "outputs": [],
   "source": [
    "sample_negative = sample[sample['polarity']<0]\n",
    "sample_positive = sample[sample['polarity']>0]"
   ]
  },
  {
   "cell_type": "code",
   "execution_count": 105,
   "id": "c2e17e8c-9a70-4b47-8f53-b93af10ac4e6",
   "metadata": {},
   "outputs": [],
   "source": [
    "from collections import Counter"
   ]
  },
  {
   "cell_type": "code",
   "execution_count": 106,
   "id": "0586329c-cb6f-4401-ae72-fa223af1b3ee",
   "metadata": {},
   "outputs": [
    {
     "data": {
      "text/plain": [
       "[('Disappointed', 44),\n",
       " ('Disappointing', 32),\n",
       " ('Bland', 18),\n",
       " ('Awful', 17),\n",
       " ('Not what I expected', 17),\n",
       " ('Terrible', 15),\n",
       " ('Horrible', 15),\n",
       " ('disappointed', 15),\n",
       " ('Disgusting', 12),\n",
       " ('not good', 11)]"
      ]
     },
     "execution_count": 106,
     "metadata": {},
     "output_type": "execute_result"
    }
   ],
   "source": [
    "Counter(sample_negative['Summary']).most_common(10)"
   ]
  },
  {
   "cell_type": "code",
   "execution_count": 109,
   "id": "12675ac8-9be2-4007-8387-144f9ee0d97f",
   "metadata": {},
   "outputs": [
    {
     "data": {
      "text/plain": [
       "[('Delicious!', 208),\n",
       " ('Delicious', 204),\n",
       " ('Great product', 100),\n",
       " ('Excellent', 85),\n",
       " ('Love it!', 81),\n",
       " ('Great', 81),\n",
       " ('Great Product', 77),\n",
       " ('Great!', 70),\n",
       " ('Good stuff', 51),\n",
       " ('Awesome', 50)]"
      ]
     },
     "execution_count": 109,
     "metadata": {},
     "output_type": "execute_result"
    }
   ],
   "source": [
    "Counter(sample_positive['Summary']).most_common(10)"
   ]
  },
  {
   "cell_type": "code",
   "execution_count": null,
   "id": "3b0a0b07-de09-494d-b27e-d62ff86d37be",
   "metadata": {},
   "outputs": [],
   "source": []
  }
 ],
 "metadata": {
  "kernelspec": {
   "display_name": "Python [conda env:base] *",
   "language": "python",
   "name": "conda-base-py"
  },
  "language_info": {
   "codemirror_mode": {
    "name": "ipython",
    "version": 3
   },
   "file_extension": ".py",
   "mimetype": "text/x-python",
   "name": "python",
   "nbconvert_exporter": "python",
   "pygments_lexer": "ipython3",
   "version": "3.12.7"
  }
 },
 "nbformat": 4,
 "nbformat_minor": 5
}
